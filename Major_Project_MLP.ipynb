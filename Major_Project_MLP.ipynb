{
  "nbformat": 4,
  "nbformat_minor": 0,
  "metadata": {
    "colab": {
      "name": "Major Project MLP.ipynb",
      "provenance": [],
      "collapsed_sections": []
    },
    "kernelspec": {
      "display_name": "Python 3",
      "name": "python3"
    },
    "language_info": {
      "name": "python"
    }
  },
  "cells": [
    {
      "cell_type": "code",
      "metadata": {
        "colab": {
          "base_uri": "https://localhost:8080/"
        },
        "id": "MXTPyUIinxET",
        "outputId": "f3af66d4-4085-4180-eacd-1207e4393eb8"
      },
      "source": [
        "from google.colab import drive\n",
        "drive.mount('/content/drive',force_remount=True)"
      ],
      "execution_count": null,
      "outputs": [
        {
          "output_type": "stream",
          "text": [
            "Mounted at /content/drive\n"
          ],
          "name": "stdout"
        }
      ]
    },
    {
      "cell_type": "code",
      "metadata": {
        "id": "2yt43RdUn1qU"
      },
      "source": [
        "import pandas as pd\n",
        "import numpy as np\n",
        "import os\n",
        "import random\n",
        "import sys\n",
        "import glob \n",
        "import librosa\n",
        "import librosa.display\n",
        "import matplotlib.pyplot as plt\n",
        "import seaborn as sns\n",
        "\n",
        "from sklearn.linear_model import LogisticRegression\n",
        "from sklearn.model_selection import train_test_split, cross_val_score\n",
        "from sklearn.tree import DecisionTreeClassifier\n",
        "from sklearn.metrics import classification_report, confusion_matrix, accuracy_score\n",
        "from sklearn.preprocessing import StandardScaler\n",
        "from sklearn.utils.multiclass import unique_labels\n",
        "from sklearn.neural_network import MLPClassifier\n",
        "from sklearn.neighbors import KNeighborsClassifier\n",
        "from sklearn.ensemble import RandomForestClassifier, VotingClassifier\n",
        "\n",
        "import lightgbm as lgb\n",
        "import xgboost as xgb\n",
        "from tqdm import tqdm\n",
        "\n",
        "import warnings\n",
        "warnings.filterwarnings('ignore')"
      ],
      "execution_count": null,
      "outputs": []
    },
    {
      "cell_type": "code",
      "metadata": {
        "id": "_s8mlZb5n26x"
      },
      "source": [
        "def extract_feature(file_name):\n",
        "    X, sample_rate = librosa.load(file_name)\n",
        "    stft=np.abs(librosa.stft(X))\n",
        "    result=np.array([])\n",
        "    mfccs=np.mean(librosa.feature.mfcc(y=X, sr=sample_rate, n_mfcc=40).T,axis=0)\n",
        "    result=np.hstack((result, mfccs))\n",
        "    chroma=np.mean(librosa.feature.chroma_stft(S=stft, sr=sample_rate).T,axis=0)\n",
        "    result=np.hstack((result, chroma))\n",
        "    mel=np.mean(librosa.feature.melspectrogram(X, sr=sample_rate).T,axis=0)\n",
        "    result=np.hstack((result, mel))\n",
        "    return result"
      ],
      "execution_count": null,
      "outputs": []
    },
    {
      "cell_type": "code",
      "metadata": {
        "id": "N-EhrLofn5MD"
      },
      "source": [
        "emotions={\n",
        "  '01':'neutral',\n",
        "  '02':'calm',\n",
        "  '03':'happy',\n",
        "  '04':'sad',\n",
        "  '05':'angry',\n",
        "  '06':'fearful',\n",
        "  '07':'disgust',\n",
        "  '08':'surprised'\n",
        "}\n",
        "\n",
        "def gender(g):\n",
        "    if int(g[0:2]) % 2 == 0:\n",
        "        return 'female'\n",
        "    else:\n",
        "        return 'male'"
      ],
      "execution_count": null,
      "outputs": []
    },
    {
      "cell_type": "code",
      "metadata": {
        "id": "Kaj3Y85nn6qM"
      },
      "source": [
        "def load_data(test_size=0.2):\n",
        "    x,y=[],[]\n",
        "    for file in tqdm(glob.glob(\"drive/MyDrive/Audio_Speech_Actors_01-24/Actor_*/*.wav\")):\n",
        "        file_name=os.path.basename(file)\n",
        "        if(file_name.split(\"-\")[2] in emotions):\n",
        "          emotion=emotions[file_name.split(\"-\")[2]] + '_' + gender(file_name.split(\"-\")[-1])\n",
        "          feature=extract_feature(file)\n",
        "          x.append(feature)\n",
        "          y.append(emotion)\n",
        "    return train_test_split(np.array(x), y, test_size=test_size, random_state=9)"
      ],
      "execution_count": null,
      "outputs": []
    },
    {
      "cell_type": "code",
      "metadata": {
        "colab": {
          "base_uri": "https://localhost:8080/"
        },
        "id": "okuUGmf7n_LK",
        "outputId": "fe9c4bef-22a1-4728-d118-4b5905244ebd"
      },
      "source": [
        "X_train, X_test, y_train, y_test = load_data()"
      ],
      "execution_count": null,
      "outputs": [
        {
          "output_type": "stream",
          "text": [
            "100%|██████████| 1440/1440 [13:45<00:00,  1.74it/s]\n"
          ],
          "name": "stderr"
        }
      ]
    },
    {
      "cell_type": "code",
      "metadata": {
        "colab": {
          "base_uri": "https://localhost:8080/"
        },
        "id": "z2T0IpN6oDAL",
        "outputId": "36128b51-6c2e-4dd2-d267-ac944a5ec459"
      },
      "source": [
        "print((X_train.shape[0], X_test.shape[0]))\n",
        "print(f'Features extracted: {X_train.shape[1]}')"
      ],
      "execution_count": null,
      "outputs": [
        {
          "output_type": "stream",
          "text": [
            "(691, 173)\n",
            "Features extracted: 194\n"
          ],
          "name": "stdout"
        }
      ]
    },
    {
      "cell_type": "code",
      "metadata": {
        "id": "YX1pqVwToEwD"
      },
      "source": [
        "scaler = StandardScaler()\n",
        "X_train = scaler.fit_transform(X_train)\n",
        "X_test = scaler.transform(X_test)"
      ],
      "execution_count": null,
      "outputs": []
    },
    {
      "cell_type": "code",
      "metadata": {
        "colab": {
          "base_uri": "https://localhost:8080/"
        },
        "id": "00csj2u_62qN",
        "outputId": "55ea26e7-e1fc-4c97-f85f-ee4edc6f3790"
      },
      "source": [
        "import joblib\n",
        "xt = 'X.train'\n",
        "joblib.dump(X_train, xt, compress=9)"
      ],
      "execution_count": null,
      "outputs": [
        {
          "output_type": "execute_result",
          "data": {
            "text/plain": [
              "['X.train']"
            ]
          },
          "metadata": {
            "tags": []
          },
          "execution_count": 8
        }
      ]
    },
    {
      "cell_type": "code",
      "metadata": {
        "id": "SsOqMU9poHCL"
      },
      "source": [
        "'''mlp_params = {'activation': 'relu', \n",
        "              'solver': 'lbfgs', \n",
        "              'hidden_layer_sizes': 1194, \n",
        "              'alpha': 0.8432377345669054, \n",
        "              'batch_size': 173, \n",
        "              'learning_rate': 'constant',\n",
        "              'max_iter':1000}'''\n",
        "lgb_params = {'num_leaves': 5, \n",
        "              'max_depth': 58, \n",
        "              'n_estimators': 14734, \n",
        "              'subsample_for_bin': 491645, \n",
        "              'min_data_in_leaf': 27, \n",
        "              'reg_alpha': 1.744123586157066, \n",
        "              'colsample_bytree': 0.6495503686746514, \n",
        "              'learning_rate': 0.8581745963346554, \n",
        "              'boosting_type': 'dart'}\n",
        "mlp2_params = {'activation': 'relu', \n",
        "              'solver': 'lbfgs', \n",
        "              'hidden_layer_sizes': 1283, \n",
        "              'alpha': 0.3849485717707319, \n",
        "              'batch_size': 163, \n",
        "              'learning_rate': 'constant',\n",
        "              'max_iter':1000}\n"
      ],
      "execution_count": null,
      "outputs": []
    },
    {
      "cell_type": "code",
      "metadata": {
        "id": "PYu3UGjUowu9"
      },
      "source": [
        "v_params = {'estimators':[('mlp2', MLPClassifier(**mlp2_params)), \n",
        "                          ('lgb', lgb.LGBMClassifier(**lgb_params))], \n",
        "            'voting':'soft'}\n",
        "models = {}\n",
        "models['v'] = VotingClassifier(**v_params)\n",
        "#models['mlp'] = MLPClassifier(**mlp_params)\n",
        "model_abrv = {'v':'Voting Classifier: MLP2, LGB'}#,'mlp':'MLP'}\n",
        "\n",
        "\n"
      ],
      "execution_count": null,
      "outputs": []
    },
    {
      "cell_type": "code",
      "metadata": {
        "id": "oDrJjI9_VX-y"
      },
      "source": [
        "def print_confusion_matrix(confusion_matrix, class_names, figsize = (10,7), fontsize=14, model='clf', save=True):\n",
        "    df_cm = pd.DataFrame(\n",
        "        confusion_matrix, index=class_names, columns=class_names, \n",
        "    )\n",
        "    fig, ax = plt.subplots(1, 1, figsize=figsize)\n",
        "    try:\n",
        "        heatmap = sns.heatmap(df_cm, annot=True, ax=ax, fmt=\"d\", cmap=plt.cm.Oranges)\n",
        "    except ValueError:\n",
        "        raise ValueError(\"Confusion matrix values must be integers.\")\n",
        "        \n",
        "    heatmap.yaxis.set_ticklabels(heatmap.yaxis.get_ticklabels(), rotation=0, ha='right', fontsize=fontsize)\n",
        "    heatmap.xaxis.set_ticklabels(heatmap.xaxis.get_ticklabels(), rotation=45, ha='right', fontsize=fontsize)\n",
        "    plt.ylabel('True label')\n",
        "    plt.xlabel('Predicted label')\n",
        "    plt.tight_layout()\n",
        "    b, t = plt.ylim() \n",
        "    b += 0.5 \n",
        "    t -= 0.5 \n",
        "    plt.ylim(b, t) \n",
        "    if save == True:\n",
        "        plt.savefig('confusion_matrix.jpg')\n",
        "    plt.show()"
      ],
      "execution_count": null,
      "outputs": []
    },
    {
      "cell_type": "code",
      "metadata": {
        "id": "EOAeADlVpLIl"
      },
      "source": [
        "def model(clf, X_train=X_train, X_test=X_test, y_train=y_train, y_test=y_test, models=models, save=False, print_stat=True, inc_train=False, cv=False):\n",
        "    clf_model = models[clf]\n",
        "    clf_model.fit(X_train, y_train)\n",
        "    y_pred = clf_model.predict(X_test)\n",
        "    if print_stat == True:\n",
        "        clf_report = pd.DataFrame(classification_report(y_test,y_pred, output_dict=True)).T\n",
        "        clf_report.to_csv('tuned_' + model_abrv[clf] + '_classification_report.csv')\n",
        "        print(model_abrv[clf])\n",
        "        print('\\nTest Stats\\n', classification_report(y_test,y_pred))\n",
        "        print_confusion_matrix(confusion_matrix(y_test, y_pred), unique_labels(y_test, y_pred), model=clf)\n",
        "        if inc_train == True:\n",
        "            print(model_abrv[clf])\n",
        "            print('\\nTrain Stats\\n', classification_report(y_train,clf_model.predict(X_train)))\n",
        "            print_confusion_matrix(confusion_matrix(y_train, clf_model.predict(X_train)), unique_labels(y_test, y_pred), model=clf)\n",
        "    if cv == True:\n",
        "        print(model_abrv[clf] + ' CV Accuracy:',  \n",
        "              np.mean(cross_val_score(clf_model, X_train, y_train, cv=5, scoring='accuracy')))\n",
        "    if save == True:\n",
        "        return clf_model"
      ],
      "execution_count": null,
      "outputs": []
    },
    {
      "cell_type": "code",
      "metadata": {
        "colab": {
          "base_uri": "https://localhost:8080/"
        },
        "id": "nKALTk0FpeEj",
        "outputId": "e0941cc7-7d01-4df9-e1f9-32fed33143b0"
      },
      "source": [
        "for key in models.keys():\n",
        "    fmodel=model(key,save=True,print_stat=False,cv=True)"
      ],
      "execution_count": null,
      "outputs": [
        {
          "output_type": "stream",
          "text": [
            "Voting Classifier: MLP2, LGB CV Accuracy: 0.7077885517672818\n"
          ],
          "name": "stdout"
        }
      ]
    },
    {
      "cell_type": "code",
      "metadata": {
        "colab": {
          "base_uri": "https://localhost:8080/"
        },
        "id": "XZk_1Y7hcolR",
        "outputId": "f508123c-444a-43c4-e461-11c29d0c3be0"
      },
      "source": [
        "import joblib\n",
        "model_name = 'Emotion_Voice_Detection_Model.h5'\n",
        "save_dir = '/content'\n",
        "fmodel_path = os.path.join(save_dir, model_name)\n",
        "joblib.dump(fmodel, fmodel_path, compress=9)"
      ],
      "execution_count": null,
      "outputs": [
        {
          "output_type": "execute_result",
          "data": {
            "text/plain": [
              "['/content/Emotion_Voice_Detection_Model.h5']"
            ]
          },
          "metadata": {
            "tags": []
          },
          "execution_count": 40
        }
      ]
    }
  ]
}